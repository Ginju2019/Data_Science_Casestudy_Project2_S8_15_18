{
 "cells": [
  {
   "cell_type": "markdown",
   "metadata": {},
   "source": [
    "# Project 1:\n",
    "## Piggy Bank Software - Student: Ginju Soumya\n"
   ]
  },
  {
   "cell_type": "markdown",
   "metadata": {},
   "source": [
    "# Libraries and Modules: Import"
   ]
  },
  {
   "cell_type": "code",
   "execution_count": 1,
   "metadata": {},
   "outputs": [],
   "source": [
    "import math"
   ]
  },
  {
   "cell_type": "markdown",
   "metadata": {},
   "source": [
    "We should create a pigy bank application for school children to teach them importance of savings. They should have the option to:<brk>\n",
    "    \n",
    "    1. Add money\n",
    "    2. Wihdraw money\n",
    "    3. Check the current amount in the piggy bank \n",
    "    \n",
    "    \n",
    "\n",
    "\n",
    "######  import piggy_bank\n",
    "\n",
    "--------------------Start-------------------\n",
    "\n",
    "Start or End : Start\n",
    "Add   Withdraw or Check   Add \n",
    "\n",
    "Add amount : 1000\n",
    "\n",
    "After adding, your updated balance is 1000.0 rupees\n",
    "None\n",
    "\n",
    "Start or End : Start\n",
    "Add, Withdraw or Check: withdraw \n",
    "\n",
    "Withdraw amount : 300\n",
    "\n",
    "After withdrawing, balance amount is  700.0 rupees \n",
    "\n",
    "None\n",
    "\n",
    "Start or End   Start' \n",
    "\n",
    "Start or End   Start\n",
    "Add, Withdraw or Check: Check\n",
    "\n",
    "Your current balance is 700.0 rupees \n",
    "None\n",
    "\n",
    "##### Assignment\n",
    "\n",
    "Our piggy bank is working as expected. Can you think of some more functionalities and add them to \n",
    "the existing project which may help the school children.\n",
    "    "
   ]
  },
  {
   "cell_type": "markdown",
   "metadata": {},
   "source": [
    "#### Solution:"
   ]
  },
  {
   "cell_type": "code",
   "execution_count": null,
   "metadata": {},
   "outputs": [
    {
     "name": "stdout",
     "output_type": "stream",
     "text": [
      " \n",
      "--------------------Start-------------------\n",
      " \n",
      "Start or End : Start\n",
      "Add, Withdraw or Check : Add\n",
      " \n",
      "Add amount : 100\n",
      " \n",
      "After adding, your updated balance is 100.0 rupees\n",
      "None\n",
      " \n",
      "Start or End : Start\n",
      "Add, Withdraw or Check : Withdraw\n",
      " \n",
      "withdraw amount: 200\n",
      " \n",
      "Overdraft Withdrawal Error. Cannot withdraw amount that is more than your account balance amount\n",
      "Your withdrawal amount is 200.0 rupees\n",
      "Your current balance is 100.0 rupees\n",
      " \n",
      " \n"
     ]
    }
   ],
   "source": [
    "import math\n",
    "\n",
    "class PiggyBank:\n",
    "    #Pigg Bank\n",
    "\n",
    "    def __init__(self):\n",
    "        # initialize Piggy Bank current balance to zero\n",
    "        self.balance_amt = 0        \n",
    "    \n",
    "    def addMoney(self, deposit_amount):        \n",
    "        \"\"\" Add the user deposited amount with current balance\n",
    "        \n",
    "        Parameters:\n",
    "        deposit_amount (float): User deposited amount\n",
    "        \"\"\"\n",
    "        self.balance_amt = self.balance_amt + deposit_amount\n",
    "\n",
    "    def withdrawMoney(self, withdraw_amount):\n",
    "        \"\"\" Subtract the user withdrawal amount from current balance\n",
    "        \n",
    "        Parameters:\n",
    "        withdraw_amount (float): User withdrawal amount\n",
    "        \"\"\"\n",
    "        self.balance_amt = self.balance_amt - withdraw_amount\n",
    "        \n",
    "    def getCurrentBalance(self):\n",
    "        \"\"\" Return the Piggy Bank current balance\n",
    "        \n",
    "        Returns:\n",
    "        float:balance_amt\n",
    "        \"\"\"\n",
    "        return self.balance_amt\n",
    "    \n",
    "    \n",
    "class Error(Exception):\n",
    "   \"\"\"Base class for other exceptions\"\"\"\n",
    "   pass\n",
    "\n",
    "class WithdrawError(Error):\n",
    "   \"\"\"Raised when the withdrawal amount is more than account balance\"\"\"\n",
    "   pass\n",
    "\n",
    "class NewPiggyBank(PiggyBank):\n",
    "    \n",
    "    def withdrawMoney(self, withdraw_amount):\n",
    "        \"\"\" Overridden method - Subtract the user withdrawal amount from current balance \n",
    "         with check for sufficient balance\n",
    "        \n",
    "        Parameters:\n",
    "        withdraw_amount (float): User withdrawal amount\n",
    "        \"\"\"\n",
    "        if (self.balance_amt - withdraw_amount) > 0:\n",
    "            self.balance_amt = self.balance_amt - withdraw_amount\n",
    "        else:\n",
    "            raise WithdrawError #Exception('Overdraft withdrawal Error. Cannot withdraw more than amount in account balance: {}'.format(self.balance_amt))\n",
    "        \n",
    "\n",
    "# main code\n",
    "print(\" \")\n",
    "print(\"--------------------Start-------------------\")\n",
    "piggyBankObj = NewPiggyBank()\n",
    "while True:\n",
    "    print(\" \")\n",
    "    app_init = input(\"Start or End : \")\n",
    "    if app_init.strip().lower() == \"start\":\n",
    "        user_action = input(\"Add, Withdraw or Check : \")\n",
    "        if user_action.strip() == \"Add\":\n",
    "            print(\" \")\n",
    "            deposit = float(input(\"Add amount : \"))\n",
    "            print(\" \")\n",
    "            piggyBankObj.addMoney(deposit)\n",
    "            print(\"After adding, your updated balance is \" + str(piggyBankObj.getCurrentBalance()) + \" rupees\")\n",
    "            print(\"None\")\n",
    "            continue\n",
    "        elif user_action.strip() == \"Withdraw\":\n",
    "            print(\" \")\n",
    "            withdraw = float(input(\"withdraw amount: \"))\n",
    "            print(\" \")\n",
    "            try:\n",
    "                piggyBankObj.withdrawMoney(withdraw)\n",
    "                print(\"After withdrawing, balance amount is \" + str(piggyBankObj.getCurrentBalance()) + \" rupees\")\n",
    "                print(\"None\")            \n",
    "            except WithdrawError:\n",
    "                print(\"Overdraft Withdrawal Error. Cannot withdraw amount that is more than your account balance amount\")\n",
    "                print(\"Your withdrawal amount is \" + str(withdraw) + \" rupees\")\n",
    "                print(\"Your current balance is   \" + str(piggyBankObj.getCurrentBalance()) + \" rupees\")\n",
    "                print(\" \")\n",
    "                continue\n",
    "        elif user_action.strip() == \"Check\":\n",
    "            print(\" \")\n",
    "            print(\"Your current balance is \" + str(piggyBankObj.getCurrentBalance()) + \" rupees\")\n",
    "            print(\"None\")\n",
    "            continue\n",
    "        else :\n",
    "            print(\" \")\n",
    "            print(\"Invalid Input.Try again\")\n",
    "            continue\n",
    "    elif app_init.strip() == \"End\" :\n",
    "        print(\" \")\n",
    "        print(\"------------Program Ended-----------\")\n",
    "        print(\" \")\n",
    "        break\n",
    "    else :\n",
    "        print(\" \")\n",
    "        print(\"Invalid Input. Try again\")\n",
    "        continue        \n",
    "        \n"
   ]
  },
  {
   "cell_type": "code",
   "execution_count": 1,
   "metadata": {},
   "outputs": [
    {
     "name": "stdout",
     "output_type": "stream",
     "text": [
      " \n",
      "--------------------Start-------------------\n",
      " \n",
      "Start or End : Start\n",
      "Add, Withdraw or Check : add\n",
      " \n",
      "Invalid Input.Try again\n",
      " \n",
      "Start or End : Add\n",
      " \n",
      "Invalid Input. Try again\n",
      " \n",
      "Start or End : Start\n",
      "Add, Withdraw or Check : Add\n",
      " \n",
      "Add amount : 10000\n",
      " \n",
      "After adding, your updated balance is 10000.0 rupees\n",
      "None\n",
      " \n",
      "Start or End : Start\n",
      "Add, Withdraw or Check : Withdraw\n",
      " \n",
      "withdraw amount: 100\n",
      " \n",
      "After withdrawing, balance amount is 9900.0 rupees\n",
      "None\n",
      " \n",
      "Start or End : Start\n",
      "Add, Withdraw or Check : Check\n",
      " \n",
      "Your current balance is 9900.0 rupees\n",
      "None\n",
      " \n",
      "Start or End : End\n",
      " \n",
      "------------Program Ended-----------\n",
      " \n"
     ]
    }
   ],
   "source": [
    "import piggy_bank"
   ]
  },
  {
   "cell_type": "markdown",
   "metadata": {},
   "source": [
    "# The End"
   ]
  },
  {
   "cell_type": "markdown",
   "metadata": {},
   "source": [
    "### 3.Output\n",
    "This assignment consists of 1500 marks and needs to be submitted in Github. You can\n",
    "follow Github submission guide provided to do the same."
   ]
  }
 ],
 "metadata": {
  "kernelspec": {
   "display_name": "Python 3",
   "language": "python",
   "name": "python3"
  },
  "language_info": {
   "codemirror_mode": {
    "name": "ipython",
    "version": 3
   },
   "file_extension": ".py",
   "mimetype": "text/x-python",
   "name": "python",
   "nbconvert_exporter": "python",
   "pygments_lexer": "ipython3",
   "version": "3.7.3"
  },
  "varInspector": {
   "cols": {
    "lenName": 16,
    "lenType": 16,
    "lenVar": 40
   },
   "kernels_config": {
    "python": {
     "delete_cmd_postfix": "",
     "delete_cmd_prefix": "del ",
     "library": "var_list.py",
     "varRefreshCmd": "print(var_dic_list())"
    },
    "r": {
     "delete_cmd_postfix": ") ",
     "delete_cmd_prefix": "rm(",
     "library": "var_list.r",
     "varRefreshCmd": "cat(var_dic_list()) "
    }
   },
   "types_to_exclude": [
    "module",
    "function",
    "builtin_function_or_method",
    "instance",
    "_Feature"
   ],
   "window_display": false
  }
 },
 "nbformat": 4,
 "nbformat_minor": 2
}
